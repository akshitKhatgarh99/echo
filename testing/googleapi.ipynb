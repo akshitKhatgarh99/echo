{
 "cells": [
  {
   "cell_type": "code",
   "execution_count": 5,
   "metadata": {},
   "outputs": [
    {
     "name": "stdout",
     "output_type": "stream",
     "text": [
      "Audio content written to file 'output.wav'\n"
     ]
    }
   ],
   "source": [
    "from google.cloud import texttospeech\n",
    "from google.oauth2.service_account import Credentials\n",
    "\n",
    "# Initialize the Text-to-Speech client with credentials\n",
    "credentials = Credentials.from_service_account_file(\"credentials.json\")\n",
    "client = texttospeech.TextToSpeechClient(credentials=credentials)\n",
    "\n",
    "def synthesize_speech(input_text):\n",
    "    # Configure voice parameters\n",
    "    voice = texttospeech.VoiceSelectionParams(\n",
    "        language_code=\"en-IN\",\n",
    "        name=\"en-IN-Neural2-A\"\n",
    "    )\n",
    "    # Configure audio parameters\n",
    "    audio_config = texttospeech.AudioConfig(\n",
    "        audio_encoding=texttospeech.AudioEncoding.LINEAR16,\n",
    "        effects_profile_id=[\"small-bluetooth-speaker-class-device\"],\n",
    "        pitch=0,\n",
    "        speaking_rate=1\n",
    "    )\n",
    "\n",
    "    # Prepare the text input for synthesis\n",
    "    synthesis_input = texttospeech.SynthesisInput(text=input_text)\n",
    "\n",
    "    # Create the request object\n",
    "    request = texttospeech.SynthesizeSpeechRequest(\n",
    "        input=synthesis_input,\n",
    "        voice=voice,\n",
    "        audio_config=audio_config\n",
    "    )\n",
    "\n",
    "    # Call the Text-to-Speech API\n",
    "    response = client.synthesize_speech(request=request)\n",
    "    return response\n",
    "\n",
    "# Example usage\n",
    "response = synthesize_speech(\"बेलगाम मैंने पहले भी visit किया है, जगहें same थीं, लेकिन तब से कुछ बदल चुके हैं। आपको क्या लगता है, कितना change हुआ होगा?\")\n",
    "\n",
    "# Write the audio content to a file\n",
    "with open(\"output.wav\", \"wb\") as out:\n",
    "    out.write(response.audio_content)\n",
    "    print(\"Audio content written to file 'output.wav'\")\n",
    "\n"
   ]
  },
  {
   "cell_type": "code",
   "execution_count": null,
   "metadata": {},
   "outputs": [],
   "source": []
  }
 ],
 "metadata": {
  "kernelspec": {
   "display_name": "echo",
   "language": "python",
   "name": "python3"
  },
  "language_info": {
   "codemirror_mode": {
    "name": "ipython",
    "version": 3
   },
   "file_extension": ".py",
   "mimetype": "text/x-python",
   "name": "python",
   "nbconvert_exporter": "python",
   "pygments_lexer": "ipython3",
   "version": "3.12.0"
  }
 },
 "nbformat": 4,
 "nbformat_minor": 2
}
