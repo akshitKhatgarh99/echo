{
 "cells": [
  {
   "cell_type": "code",
   "execution_count": 1,
   "metadata": {},
   "outputs": [
    {
     "name": "stdout",
     "output_type": "stream",
     "text": [
      "Future Continuous: 26\n",
      "Future Perfect: 22\n",
      "Future Perfect Continuous: 13\n",
      "Future Simple: 11\n",
      "Future Simple : 1\n",
      "Mixed Tense Practice: 1\n",
      "Past Continuous: 18\n",
      "Past Perfect: 18\n",
      "Past Perfect Continuous: 15\n",
      "Past Simple: 2\n",
      "Present Continuous Tense: 3\n",
      "Present Perfect: 21\n",
      "Present Perfect Continuous: 10\n",
      "Total entries: 161\n"
     ]
    }
   ],
   "source": [
    "import json\n",
    "from collections import Counter\n",
    "import re\n",
    "\n",
    "# Initialize an empty list to store all entries\n",
    "json_data = []\n",
    "\n",
    "# Read the JSON entries from the file\n",
    "with open('selectedv1.txt', 'r') as file:\n",
    "    file_content = file.read().strip()\n",
    "    # Correctly identify and add missing braces for the first and last JSON objects if necessary\n",
    "    if not file_content.startswith('{'):\n",
    "        file_content = '{' + file_content\n",
    "    if not file_content.endswith('}'):\n",
    "        file_content += '}'\n",
    "    \n",
    "    # Use regex to split the content, ensuring we account for the start and end of the file\n",
    "    json_blocks = re.split(r'}\\s*{', file_content)\n",
    "    \n",
    "    # Process each block to ensure it is valid JSON\n",
    "    for i, block in enumerate(json_blocks):\n",
    "        # Add missing curly braces if they were removed by the split, specifically for blocks not at the ends\n",
    "        if i != 0:  # For blocks that are not the first, add an opening brace\n",
    "            block = '{' + block\n",
    "        if i != len(json_blocks) - 1:  # For blocks that are not the last, add a closing brace\n",
    "            block += '}'\n",
    "        \n",
    "        try:\n",
    "            # Parse the block as JSON and add it to our list\n",
    "            json_data.append(json.loads(block))\n",
    "        except json.JSONDecodeError as e:\n",
    "            print(f\"Error decoding JSON block at index {i}: {e}\")\n",
    "\n",
    "# Extract the \"Key Grammar Point\" entries\n",
    "for entry in json_data:\n",
    "    print(entry['Starter'])\n",
    "key_grammar_points = [entry['Key Grammar Point'] for entry in json_data]\n",
    "\n",
    "# Create a distribution of the \"Key Grammar Point\" entries\n",
    "distribution = Counter(key_grammar_points)\n",
    "\n",
    "# Print the distribution\n",
    "for key, count in sorted(distribution.items()):\n",
    "    print(f\"{key}: {count}\")\n",
    "\n",
    "\n",
    "# Print the total number of entries\n",
    "print(f\"Total entries: {len(json_data)}\")\n"
   ]
  },
  {
   "cell_type": "code",
   "execution_count": null,
   "metadata": {},
   "outputs": [],
   "source": []
  }
 ],
 "metadata": {
  "kernelspec": {
   "display_name": "Python 3",
   "language": "python",
   "name": "python3"
  },
  "language_info": {
   "codemirror_mode": {
    "name": "ipython",
    "version": 3
   },
   "file_extension": ".py",
   "mimetype": "text/x-python",
   "name": "python",
   "nbconvert_exporter": "python",
   "pygments_lexer": "ipython3",
   "version": "3.10.12"
  }
 },
 "nbformat": 4,
 "nbformat_minor": 2
}
